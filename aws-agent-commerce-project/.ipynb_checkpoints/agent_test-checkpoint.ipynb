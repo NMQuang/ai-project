{
 "cells": [
  {
   "cell_type": "code",
   "execution_count": 1,
   "id": "e17041d8-8dff-4cdd-bc8d-0033fe3b87e3",
   "metadata": {},
   "outputs": [
    {
     "name": "stdout",
     "output_type": "stream",
     "text": [
      "1.38.18\n"
     ]
    }
   ],
   "source": [
    "import boto3\n",
    "print(boto3.__version__)\n",
    "import uuid\n",
    "from util import *\n",
    "from pprint import pprint"
   ]
  },
  {
   "cell_type": "code",
   "execution_count": 2,
   "id": "29b0aee6-bcc7-432e-9a8a-883695127be2",
   "metadata": {},
   "outputs": [],
   "source": [
    "bedrock_agent = boto3.client(service_name='bedrock-agent', region_name='us-east-1')\n",
    "bedrock_agent_runtime = boto3.client(service_name='bedrock-agent-runtime', region_name='us-east-1')"
   ]
  },
  {
   "cell_type": "code",
   "execution_count": 3,
   "id": "f7aee624-1b2d-470e-903a-b4592fb65b8d",
   "metadata": {},
   "outputs": [],
   "source": [
    "agentId = 'XY4ST5P7DB'\n",
    "agentAliasId = '4CPTSBSC6G'"
   ]
  },
  {
   "cell_type": "code",
   "execution_count": 4,
   "id": "0ee89022-db6c-46fe-b640-c5573b7b3917",
   "metadata": {},
   "outputs": [],
   "source": [
    "sessionId = str(uuid.uuid4())"
   ]
  },
  {
   "cell_type": "code",
   "execution_count": 6,
   "id": "b91bc701-95ef-43a8-ac49-cf4a2be5ec6d",
   "metadata": {},
   "outputs": [
    {
     "name": "stdout",
     "output_type": "stream",
     "text": [
      "User: 200\n",
      "\n",
      "Agent: \n",
      "Agent's thought process:\n",
      "  The User's goal is to restock a product with a specific product ID.\n",
      "  (2) The User has provided the product ID (P002) and the quantity\n",
      "  (200). (3) The best action plan is to use the\n",
      "  `POST__agentCommerceActionGroup__RestockProduct` action to restock\n",
      "  the product. (4) All steps in the action plan are complete. (5) The\n",
      "  available action is\n",
      "  `POST__agentCommerceActionGroup__RestockProduct`. (6) This action\n",
      "  requires the product ID and the quantity. (7) I have everything I\n",
      "  need.\n",
      "\n",
      "Invocation Input:\n",
      "  Type: ACTION_GROUP\n",
      "  Action Group: agentCommerceActionGroup\n",
      "  Function: N/A\n",
      "  Parameters: []\n",
      "\n",
      "Observation:\n",
      "  Type: ACTION_GROUP\n",
      "  Action Group Output: {\"status\":\"Success\"}\n",
      "\n",
      "Agent's thought process:\n",
      "  The User's goal was to restock a product with a specific product ID.\n",
      "  (2) The User provided the product ID (P002) and the quantity (200).\n",
      "  (3) The action plan was to use the\n",
      "  `POST__agentCommerceActionGroup__RestockProduct` action to restock\n",
      "  the product. (4) The action has been successfully completed. (5)\n",
      "  There are no further steps needed. (6) I can now provide the final\n",
      "  response to the User.\n",
      "\n",
      "Observation:\n",
      "  Type: FINISH\n",
      "\n",
      "Final response:\n",
      "  The product with ID P002 has been restocked successfully.\n",
      "\n",
      "\n",
      "Session ID: 145be7e0-9b4b-4326-a324-427e1d6e82b3\n"
     ]
    }
   ],
   "source": [
    "message = 'get all product inventory'\n",
    "invoke_agent(\n",
    "    agentId = agentId,\n",
    "    agentAliasId = agentAliasId,\n",
    "    inputText = message,\n",
    "    sessionId = sessionId,\n",
    "    endSession = False,\n",
    "    enableTrace = True\n",
    ")"
   ]
  },
  {
   "cell_type": "code",
   "execution_count": null,
   "id": "72368fd8-7b10-4fcd-9a73-f21312a56c03",
   "metadata": {},
   "outputs": [],
   "source": []
  }
 ],
 "metadata": {
  "kernelspec": {
   "display_name": "Python 3 (ipykernel)",
   "language": "python",
   "name": "python3"
  },
  "language_info": {
   "codemirror_mode": {
    "name": "ipython",
    "version": 3
   },
   "file_extension": ".py",
   "mimetype": "text/x-python",
   "name": "python",
   "nbconvert_exporter": "python",
   "pygments_lexer": "ipython3",
   "version": "3.9.9"
  }
 },
 "nbformat": 4,
 "nbformat_minor": 5
}
